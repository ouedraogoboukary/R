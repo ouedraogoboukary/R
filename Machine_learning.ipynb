{
 "cells": [
  {
   "cell_type": "code",
   "execution_count": 10,
   "metadata": {},
   "outputs": [
    {
     "name": "stderr",
     "output_type": "stream",
     "text": [
      "Installing package into 'C:/Users/Utilisateur/Documents/R/win-library/3.5'\n",
      "(as 'lib' is unspecified)\n"
     ]
    },
    {
     "name": "stdout",
     "output_type": "stream",
     "text": [
      "package 'randomForest' successfully unpacked and MD5 sums checked\n",
      "\n",
      "The downloaded binary packages are in\n",
      "\tC:\\Users\\Utilisateur\\AppData\\Local\\Temp\\RtmpcDjraN\\downloaded_packages\n"
     ]
    }
   ],
   "source": [
    "install.packages(\"randomForest\", dependencies = TRUE, repos = \"http://cran.rstudio.com/\")"
   ]
  },
  {
   "cell_type": "code",
   "execution_count": 11,
   "metadata": {},
   "outputs": [
    {
     "name": "stderr",
     "output_type": "stream",
     "text": [
      "randomForest 4.6-14\n",
      "Type rfNews() to see new features/changes/bug fixes.\n",
      "\n",
      "Attaching package: 'randomForest'\n",
      "\n",
      "The following object is masked from 'package:dplyr':\n",
      "\n",
      "    combine\n",
      "\n",
      "The following object is masked from 'package:ggplot2':\n",
      "\n",
      "    margin\n",
      "\n"
     ]
    }
   ],
   "source": [
    "library(datarium)\n",
    "library(caret)\n",
    "library(tidyverse)\n",
    "library(e1071)\n",
    "library(randomForest)"
   ]
  },
  {
   "cell_type": "code",
   "execution_count": null,
   "metadata": {},
   "outputs": [],
   "source": []
  },
  {
   "cell_type": "code",
   "execution_count": 7,
   "metadata": {},
   "outputs": [],
   "source": [
    "data(\"marketing\",package=\"datarium\")"
   ]
  },
  {
   "cell_type": "code",
   "execution_count": 8,
   "metadata": {},
   "outputs": [
    {
     "data": {
      "text/html": [
       "<table>\n",
       "<caption>A data.frame: 3 × 4</caption>\n",
       "<thead>\n",
       "\t<tr><th scope=col>youtube</th><th scope=col>facebook</th><th scope=col>newspaper</th><th scope=col>sales</th></tr>\n",
       "\t<tr><th scope=col>&lt;dbl&gt;</th><th scope=col>&lt;dbl&gt;</th><th scope=col>&lt;dbl&gt;</th><th scope=col>&lt;dbl&gt;</th></tr>\n",
       "</thead>\n",
       "<tbody>\n",
       "\t<tr><td>256.08</td><td>29.52</td><td>15.72</td><td>20.40</td></tr>\n",
       "\t<tr><td>238.92</td><td>36.72</td><td>46.44</td><td>21.96</td></tr>\n",
       "\t<tr><td>165.48</td><td>55.68</td><td>70.80</td><td>23.04</td></tr>\n",
       "</tbody>\n",
       "</table>\n"
      ],
      "text/latex": [
       "A data.frame: 3 × 4\n",
       "\\begin{tabular}{r|llll}\n",
       " youtube & facebook & newspaper & sales\\\\\n",
       " <dbl> & <dbl> & <dbl> & <dbl>\\\\\n",
       "\\hline\n",
       "\t 256.08 & 29.52 & 15.72 & 20.40\\\\\n",
       "\t 238.92 & 36.72 & 46.44 & 21.96\\\\\n",
       "\t 165.48 & 55.68 & 70.80 & 23.04\\\\\n",
       "\\end{tabular}\n"
      ],
      "text/markdown": [
       "\n",
       "A data.frame: 3 × 4\n",
       "\n",
       "| youtube &lt;dbl&gt; | facebook &lt;dbl&gt; | newspaper &lt;dbl&gt; | sales &lt;dbl&gt; |\n",
       "|---|---|---|---|\n",
       "| 256.08 | 29.52 | 15.72 | 20.40 |\n",
       "| 238.92 | 36.72 | 46.44 | 21.96 |\n",
       "| 165.48 | 55.68 | 70.80 | 23.04 |\n",
       "\n"
      ],
      "text/plain": [
       "  youtube facebook newspaper sales\n",
       "1 256.08  29.52    15.72     20.40\n",
       "2 238.92  36.72    46.44     21.96\n",
       "3 165.48  55.68    70.80     23.04"
      ]
     },
     "metadata": {},
     "output_type": "display_data"
    }
   ],
   "source": [
    "sample_n(marketing,3)"
   ]
  },
  {
   "cell_type": "code",
   "execution_count": 3,
   "metadata": {},
   "outputs": [],
   "source": [
    "# CREATION D'UN ECHANTILLON D'APPRENTISSAGE ET D'UN ECHANTILLON TEST\n",
    "set.seed(123)\n",
    "training.samples <- marketing$sales %>%\n",
    "createDataPartition(p=0.8,list=FALSE)\n",
    "train.data <-marketing[training.samples,]\n",
    "test.data <- marketing[-training.samples,]"
   ]
  },
  {
   "cell_type": "code",
   "execution_count": 8,
   "metadata": {},
   "outputs": [
    {
     "data": {
      "text/plain": [
       "\n",
       "Call:\n",
       "lm(formula = sales ~ ., data = train.data)\n",
       "\n",
       "Residuals:\n",
       "     Min       1Q   Median       3Q      Max \n",
       "-10.4122  -1.1101   0.3475   1.4218   3.4987 \n",
       "\n",
       "Coefficients:\n",
       "            Estimate Std. Error t value Pr(>|t|)    \n",
       "(Intercept) 3.391883   0.440622   7.698 1.41e-12 ***\n",
       "youtube     0.045574   0.001592  28.630  < 2e-16 ***\n",
       "facebook    0.186941   0.009888  18.905  < 2e-16 ***\n",
       "newspaper   0.001786   0.006773   0.264    0.792    \n",
       "---\n",
       "Signif. codes:  0 '***' 0.001 '**' 0.01 '*' 0.05 '.' 0.1 ' ' 1\n",
       "\n",
       "Residual standard error: 2.119 on 158 degrees of freedom\n",
       "Multiple R-squared:  0.8902,\tAdjusted R-squared:  0.8881 \n",
       "F-statistic: 426.9 on 3 and 158 DF,  p-value: < 2.2e-16\n"
      ]
     },
     "metadata": {},
     "output_type": "display_data"
    }
   ],
   "source": [
    "# MODELE DE REGRESSION LINEAIRE\n",
    "model <- lm(sales~., data=train.data)\n",
    "summary(model)"
   ]
  },
  {
   "cell_type": "code",
   "execution_count": 11,
   "metadata": {},
   "outputs": [
    {
     "name": "stdout",
     "output_type": "stream",
     "text": [
      "$R2\n",
      "[1] 0.9380644\n",
      "\n",
      "$RMSE\n",
      "[1] 1.590096\n",
      "\n"
     ]
    }
   ],
   "source": [
    "# PREDICTIONS\n",
    "predictions <- model %>%\n",
    "predict(test.data)\n",
    "\n",
    "# MESURE DE PERFORMANCE \n",
    "# 1. RMSE\n",
    "rmse <- RMSE(predictions,test.data$sales)\n",
    "# 2.R2\n",
    "r2 <- R2(predictions, test.data$sales)\n",
    "print(list(\"R2\"=r2,\"RMSE\"=rmse))"
   ]
  },
  {
   "cell_type": "code",
   "execution_count": 12,
   "metadata": {},
   "outputs": [],
   "source": [
    "fitControl <- trainControl(method=\"none\")\n",
    "mlr_model <- train(sales~., data=train.data,trControl=fitControl)"
   ]
  },
  {
   "cell_type": "code",
   "execution_count": 18,
   "metadata": {},
   "outputs": [
    {
     "name": "stdout",
     "output_type": "stream",
     "text": [
      "\n",
      "Call:\n",
      " randomForest(x = x, y = y, mtry = param$mtry) \n",
      "               Type of random forest: regression\n",
      "                     Number of trees: 500\n",
      "No. of variables tried at each split: 1\n",
      "\n",
      "          Mean of squared residuals: 3.778324\n",
      "                    % Var explained: 90.52\n"
     ]
    }
   ],
   "source": [
    "print(mlr_model$finalModel)"
   ]
  },
  {
   "cell_type": "code",
   "execution_count": null,
   "metadata": {},
   "outputs": [],
   "source": []
  }
 ],
 "metadata": {
  "kernelspec": {
   "display_name": "R",
   "language": "R",
   "name": "ir"
  },
  "language_info": {
   "codemirror_mode": "r",
   "file_extension": ".r",
   "mimetype": "text/x-r-source",
   "name": "R",
   "pygments_lexer": "r",
   "version": "3.5.3"
  }
 },
 "nbformat": 4,
 "nbformat_minor": 2
}
