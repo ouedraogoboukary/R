{
 "cells": [
  {
   "cell_type": "code",
   "execution_count": null,
   "metadata": {},
   "outputs": [],
   "source": [
    "install.packages(\"datarium\", dependencies = TRUE, repos = \"http://cran.rstudio.com/\")"
   ]
  },
  {
   "cell_type": "code",
   "execution_count": 4,
   "metadata": {},
   "outputs": [
    {
     "name": "stderr",
     "output_type": "stream",
     "text": [
      "Loading required package: lattice\n",
      "Loading required package: ggplot2\n",
      "-- \u001b[1mAttaching packages\u001b[22m --------------------------------------- tidyverse 1.2.1 --\n",
      "\u001b[32mv\u001b[39m \u001b[34mtibble \u001b[39m 2.1.1       \u001b[32mv\u001b[39m \u001b[34mpurrr  \u001b[39m 0.3.2  \n",
      "\u001b[32mv\u001b[39m \u001b[34mtidyr  \u001b[39m 0.8.3       \u001b[32mv\u001b[39m \u001b[34mdplyr  \u001b[39m 0.8.0.\u001b[31m1\u001b[39m\n",
      "\u001b[32mv\u001b[39m \u001b[34mreadr  \u001b[39m 1.3.1       \u001b[32mv\u001b[39m \u001b[34mstringr\u001b[39m 1.4.0  \n",
      "\u001b[32mv\u001b[39m \u001b[34mtibble \u001b[39m 2.1.1       \u001b[32mv\u001b[39m \u001b[34mforcats\u001b[39m 0.4.0  \n",
      "-- \u001b[1mConflicts\u001b[22m ------------------------------------------ tidyverse_conflicts() --\n",
      "\u001b[31mx\u001b[39m \u001b[34mdplyr\u001b[39m::\u001b[32mfilter()\u001b[39m masks \u001b[34mstats\u001b[39m::filter()\n",
      "\u001b[31mx\u001b[39m \u001b[34mdplyr\u001b[39m::\u001b[32mlag()\u001b[39m    masks \u001b[34mstats\u001b[39m::lag()\n",
      "\u001b[31mx\u001b[39m \u001b[34mpurrr\u001b[39m::\u001b[32mlift()\u001b[39m   masks \u001b[34mcaret\u001b[39m::lift()\n"
     ]
    }
   ],
   "source": [
    "library(datarium)\n",
    "library(caret)\n",
    "library(tidyverse)"
   ]
  },
  {
   "cell_type": "code",
   "execution_count": null,
   "metadata": {},
   "outputs": [],
   "source": [
    "data(\"marketing\",package=\"datarium\")"
   ]
  },
  {
   "cell_type": "code",
   "execution_count": 5,
   "metadata": {},
   "outputs": [
    {
     "data": {
      "text/html": [
       "<table>\n",
       "<caption>A data.frame: 3 × 4</caption>\n",
       "<thead>\n",
       "\t<tr><th scope=col>youtube</th><th scope=col>facebook</th><th scope=col>newspaper</th><th scope=col>sales</th></tr>\n",
       "\t<tr><th scope=col>&lt;dbl&gt;</th><th scope=col>&lt;dbl&gt;</th><th scope=col>&lt;dbl&gt;</th><th scope=col>&lt;dbl&gt;</th></tr>\n",
       "</thead>\n",
       "<tbody>\n",
       "\t<tr><td>  4.92</td><td>13.92</td><td> 6.84</td><td> 3.84</td></tr>\n",
       "\t<tr><td>341.16</td><td>12.72</td><td> 7.68</td><td>18.00</td></tr>\n",
       "\t<tr><td>244.92</td><td>39.48</td><td>55.20</td><td>22.80</td></tr>\n",
       "</tbody>\n",
       "</table>\n"
      ],
      "text/latex": [
       "A data.frame: 3 × 4\n",
       "\\begin{tabular}{r|llll}\n",
       " youtube & facebook & newspaper & sales\\\\\n",
       " <dbl> & <dbl> & <dbl> & <dbl>\\\\\n",
       "\\hline\n",
       "\t   4.92 & 13.92 &  6.84 &  3.84\\\\\n",
       "\t 341.16 & 12.72 &  7.68 & 18.00\\\\\n",
       "\t 244.92 & 39.48 & 55.20 & 22.80\\\\\n",
       "\\end{tabular}\n"
      ],
      "text/markdown": [
       "\n",
       "A data.frame: 3 × 4\n",
       "\n",
       "| youtube &lt;dbl&gt; | facebook &lt;dbl&gt; | newspaper &lt;dbl&gt; | sales &lt;dbl&gt; |\n",
       "|---|---|---|---|\n",
       "|   4.92 | 13.92 |  6.84 |  3.84 |\n",
       "| 341.16 | 12.72 |  7.68 | 18.00 |\n",
       "| 244.92 | 39.48 | 55.20 | 22.80 |\n",
       "\n"
      ],
      "text/plain": [
       "  youtube facebook newspaper sales\n",
       "1   4.92  13.92     6.84      3.84\n",
       "2 341.16  12.72     7.68     18.00\n",
       "3 244.92  39.48    55.20     22.80"
      ]
     },
     "metadata": {},
     "output_type": "display_data"
    }
   ],
   "source": [
    "sample_n(marketing,3)"
   ]
  },
  {
   "cell_type": "code",
   "execution_count": 6,
   "metadata": {},
   "outputs": [],
   "source": [
    "# CREATION D'UN ECHANTILLON D'APPRENTISSAGE ET D'UN ECHANTILLON TEST\n",
    "set.seed(123)\n",
    "training.samples <- marketing$sales %>%\n",
    "createDataPartition(p=0.8,list=FALSE)\n",
    "train.data <-marketing[training.samples,]\n",
    "test.data <- marketing[-training.samples,]"
   ]
  },
  {
   "cell_type": "code",
   "execution_count": 8,
   "metadata": {},
   "outputs": [
    {
     "data": {
      "text/plain": [
       "\n",
       "Call:\n",
       "lm(formula = sales ~ ., data = train.data)\n",
       "\n",
       "Residuals:\n",
       "     Min       1Q   Median       3Q      Max \n",
       "-10.4122  -1.1101   0.3475   1.4218   3.4987 \n",
       "\n",
       "Coefficients:\n",
       "            Estimate Std. Error t value Pr(>|t|)    \n",
       "(Intercept) 3.391883   0.440622   7.698 1.41e-12 ***\n",
       "youtube     0.045574   0.001592  28.630  < 2e-16 ***\n",
       "facebook    0.186941   0.009888  18.905  < 2e-16 ***\n",
       "newspaper   0.001786   0.006773   0.264    0.792    \n",
       "---\n",
       "Signif. codes:  0 '***' 0.001 '**' 0.01 '*' 0.05 '.' 0.1 ' ' 1\n",
       "\n",
       "Residual standard error: 2.119 on 158 degrees of freedom\n",
       "Multiple R-squared:  0.8902,\tAdjusted R-squared:  0.8881 \n",
       "F-statistic: 426.9 on 3 and 158 DF,  p-value: < 2.2e-16\n"
      ]
     },
     "metadata": {},
     "output_type": "display_data"
    }
   ],
   "source": [
    "# MODELE DE REGRESSION LINEAIRE\n",
    "model <- lm(sales~., data=train.data)\n",
    "summary(model)"
   ]
  },
  {
   "cell_type": "code",
   "execution_count": 11,
   "metadata": {},
   "outputs": [
    {
     "name": "stdout",
     "output_type": "stream",
     "text": [
      "$R2\n",
      "[1] 0.9380644\n",
      "\n",
      "$RMSE\n",
      "[1] 1.590096\n",
      "\n"
     ]
    }
   ],
   "source": [
    "# PREDICTIONS\n",
    "predictions <- model %>%\n",
    "predict(test.data)\n",
    "\n",
    "# MESURE DE PERFORMANCE \n",
    "# 1. RMSE\n",
    "rmse <- RMSE(predictions,test.data$sales)\n",
    "# 2.R2\n",
    "r2 <- R2(predictions, test.data$sales)\n",
    "print(list(\"R2\"=r2,\"RMSE\"=rmse))"
   ]
  },
  {
   "cell_type": "code",
   "execution_count": null,
   "metadata": {},
   "outputs": [],
   "source": []
  }
 ],
 "metadata": {
  "kernelspec": {
   "display_name": "R",
   "language": "R",
   "name": "ir"
  },
  "language_info": {
   "codemirror_mode": "r",
   "file_extension": ".r",
   "mimetype": "text/x-r-source",
   "name": "R",
   "pygments_lexer": "r",
   "version": "3.5.3"
  }
 },
 "nbformat": 4,
 "nbformat_minor": 2
}
